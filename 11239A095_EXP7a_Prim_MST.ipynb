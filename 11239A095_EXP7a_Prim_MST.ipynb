{
  "nbformat": 4,
  "nbformat_minor": 0,
  "metadata": {
    "colab": {
      "provenance": [],
      "include_colab_link": true
    },
    "kernelspec": {
      "name": "python3",
      "display_name": "Python 3"
    },
    "language_info": {
      "name": "python"
    }
  },
  "cells": [
    {
      "cell_type": "markdown",
      "metadata": {
        "id": "view-in-github",
        "colab_type": "text"
      },
      "source": [
        "<a href=\"https://colab.research.google.com/github/Learner-06/11239A095_DAA_LAB/blob/main/11239A095_EXP7a_Prim_MST.ipynb\" target=\"_parent\"><img src=\"https://colab.research.google.com/assets/colab-badge.svg\" alt=\"Open In Colab\"/></a>"
      ]
    },
    {
      "cell_type": "code",
      "source": [
        "def prim(graph):\n",
        "    n = len(graph)\n",
        "    selected = [False] * n\n",
        "    selected[0] = True\n",
        "    edges, cost = [], 0\n",
        "\n",
        "    for _ in range(n - 1):\n",
        "        min_edge = (None, None, float('inf'))\n",
        "        for u in range(n):\n",
        "            if selected[u]:\n",
        "                for v in range(n):\n",
        "                    if not selected[v] and 0 < graph[u][v] < min_edge[2]:\n",
        "                        min_edge = (u, v, graph[u][v])\n",
        "        u, v, w = min_edge\n",
        "        selected[v] = True\n",
        "        edges.append((u, v, w))\n",
        "        cost += w\n",
        "\n",
        "    print(\"Edges in MST:\")\n",
        "    for u, v, w in edges:\n",
        "        print(f\"{u} - {v} : {w}\")\n",
        "    print(f\"\\nTotal Cost: {cost}\")\n",
        "\n",
        "# Example usage\n",
        "graph = [\n",
        "    [0, 2, 0, 6, 0],\n",
        "    [2, 0, 3, 8, 5],\n",
        "    [0, 3, 0, 0, 7],\n",
        "    [6, 8, 0, 0, 9],\n",
        "    [0, 5, 7, 9, 0]\n",
        "]\n",
        "\n",
        "prim(graph)"
      ],
      "metadata": {
        "id": "HEYb05X83w9S",
        "outputId": "4f475c7d-058a-4cc0-a7ca-ca1eba5b3073",
        "colab": {
          "base_uri": "https://localhost:8080/"
        }
      },
      "execution_count": 1,
      "outputs": [
        {
          "output_type": "stream",
          "name": "stdout",
          "text": [
            "Edges in MST:\n",
            "0 - 1 : 2\n",
            "1 - 2 : 3\n",
            "1 - 4 : 5\n",
            "0 - 3 : 6\n",
            "\n",
            "Total Cost: 16\n"
          ]
        }
      ]
    }
  ]
}